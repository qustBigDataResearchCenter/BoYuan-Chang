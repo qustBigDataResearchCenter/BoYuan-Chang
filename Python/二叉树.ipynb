{
 "cells": [
  {
   "cell_type": "code",
   "execution_count": 7,
   "metadata": {
    "collapsed": true
   },
   "outputs": [],
   "source": [
    "class BinaryTree(object):\n",
    "    # 初始化，传入根节点的值\n",
    "    def __init__(self, root_value):\n",
    "        self.root = root_value\n",
    "        self.leftchild = None\n",
    "        self.rightchild = None\n",
    "    # 插入左子树\n",
    "    def insert_left(self, left_value):\n",
    "        if self.leftchild == None :\n",
    "            self.leftchild = BinaryTree(left_value)\n",
    "        else:\n",
    "            left_subtree = BinaryTree(left_value)\n",
    "            left_subtree.leftchild = self.leftchild\n",
    "            self.leftchild = left_subtree\n",
    "    # 插入右子树\n",
    "    def insert_right(self, right_value):\n",
    "        if self.rightchild == None :\n",
    "            self.rightchild = BinaryTree(right_value)\n",
    "        else:\n",
    "            right_subtree = BinaryTree(right_value)\n",
    "            right_subtree.rightchild = self.rightchild\n",
    "            self.rightchild = rightchild\n",
    "    # 设置根节点的值\n",
    "    def set_root(self, root_value):\n",
    "        self.root = root_value\n",
    "    # 获取根节点的值\n",
    "    def get_root(self):\n",
    "        return self.root\n",
    "    # 获取左子树\n",
    "    def get_leftchild(self):\n",
    "        return self.leftchild\n",
    "    # 获取右子树\n",
    "    def get_rightchile(self):\n",
    "        return self.rightchild"
   ]
  },
  {
   "cell_type": "code",
   "execution_count": 8,
   "metadata": {
    "collapsed": true
   },
   "outputs": [],
   "source": [
    "#前序遍历二叉树\n",
    "def pre_traversal(tree):\n",
    "    if tree != None:\n",
    "        print(tree.root)\n",
    "        pre_traversal(tree.leftchild)\n",
    "        pre_traversal(tree.rightchild)\n",
    "        \n",
    "# 中序遍历二叉树\n",
    "def in_traversal(tree):\n",
    "    if tree != None:\n",
    "        in_traversal(tree.leftchild)\n",
    "        print(tree.root)\n",
    "        in_traversal(tree.rightchild)\n",
    "        \n",
    "# 后序遍历二叉树\n",
    "def post_traversal(tree):\n",
    "    if tree != None:\n",
    "        post_traversal(tree.leftchild)\n",
    "        post_traversal(tree.rightchild)\n",
    "        print(tree.root)\n"
   ]
  },
  {
   "cell_type": "code",
   "execution_count": 21,
   "metadata": {
    "collapsed": true
   },
   "outputs": [],
   "source": [
    "#层序遍历二叉树\n",
    "import queue\n",
    "q=queue.Queue()\n",
    "def level_traversal(tree):\n",
    "    if tree != None:\n",
    "        q.put(tree)\n",
    "        while(not q.empty()):\n",
    "            t = q.get()\n",
    "            print(t.root)\n",
    "            if t.leftchild != None:\n",
    "                q.put(t.leftchild)\n",
    "            if t.rightchild != None:\n",
    "                q.put(t.rightchild)"
   ]
  },
  {
   "cell_type": "code",
   "execution_count": 22,
   "metadata": {
    "collapsed": true
   },
   "outputs": [],
   "source": [
    "tre = BinaryTree(0)"
   ]
  },
  {
   "cell_type": "code",
   "execution_count": 23,
   "metadata": {
    "collapsed": true
   },
   "outputs": [],
   "source": [
    "tre.insert_left(1)\n",
    "tre.insert_right(2)"
   ]
  },
  {
   "cell_type": "code",
   "execution_count": 24,
   "metadata": {},
   "outputs": [
    {
     "name": "stdout",
     "output_type": "stream",
     "text": [
      "0\n",
      "1\n",
      "2\n"
     ]
    }
   ],
   "source": [
    "level_traversal(tre)"
   ]
  },
  {
   "cell_type": "code",
   "execution_count": null,
   "metadata": {
    "collapsed": true
   },
   "outputs": [],
   "source": []
  }
 ],
 "metadata": {
  "kernelspec": {
   "display_name": "Python 3",
   "language": "python",
   "name": "python3"
  },
  "language_info": {
   "codemirror_mode": {
    "name": "ipython",
    "version": 3
   },
   "file_extension": ".py",
   "mimetype": "text/x-python",
   "name": "python",
   "nbconvert_exporter": "python",
   "pygments_lexer": "ipython3",
   "version": "3.6.3"
  }
 },
 "nbformat": 4,
 "nbformat_minor": 2
}
